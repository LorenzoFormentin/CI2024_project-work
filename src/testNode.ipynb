{
 "cells": [
  {
   "cell_type": "code",
   "execution_count": 21,
   "metadata": {},
   "outputs": [
    {
     "name": "stdout",
     "output_type": "stream",
     "text": [
      "multiply(add(10, x), 2)\n"
     ]
    }
   ],
   "source": [
    "import numpy as np\n",
    "import numbers\n",
    "from typing import Callable, List, Union\n",
    "\n",
    "class Node:\n",
    "    def __init__(self, value: Union[Callable, int, float, str], children: List['Node'] = None):\n",
    "        self.value = value\n",
    "        self.children = children if children else []\n",
    "        if isinstance(value, (int, float)):\n",
    "            self.function = lambda x: np.full_like(x, value, dtype=float)\n",
    "            self.str = str(value)\n",
    "        elif isinstance(value, str):\n",
    "            self.function = lambda x: x\n",
    "            self.str = value\n",
    "        else:\n",
    "            self.str = value.__name__\n",
    "            self.function = lambda x: value(*[child.function(x) for child in self.children])\n",
    "    \n",
    "    def __call__(self, **kwargs) -> np.ndarray:\n",
    "        return self.function(kwargs['x'])\n",
    "    \n",
    "    def __str__(self):\n",
    "        return self.concat_name\n",
    "        \n",
    "    @property\n",
    "    def concat_name(self):\n",
    "        if self.is_leaf:\n",
    "            return self.str\n",
    "        else:\n",
    "            return f'{self.str}(' + ', '.join(c.concat_name for c in self.children) + ')'\n",
    "\n",
    "    @property\n",
    "    def is_leaf(self):\n",
    "        return not self.children\n",
    "\n",
    "# Example usage\n",
    "tree = Node(np.multiply, [Node(np.add, [Node(10), Node('x')]), Node(2)])\n",
    "tree(x=np.array([1, 2, 3, 4, 5]))\n",
    "print(tree)\n",
    "# Expected output: (10 + x) * 2 for x = [1, 2, 3, 4, 5]\n"
   ]
  }
 ],
 "metadata": {
  "kernelspec": {
   "display_name": "Python 3",
   "language": "python",
   "name": "python3"
  },
  "language_info": {
   "codemirror_mode": {
    "name": "ipython",
    "version": 3
   },
   "file_extension": ".py",
   "mimetype": "text/x-python",
   "name": "python",
   "nbconvert_exporter": "python",
   "pygments_lexer": "ipython3",
   "version": "3.10.12"
  }
 },
 "nbformat": 4,
 "nbformat_minor": 2
}
